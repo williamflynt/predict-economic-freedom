{
 "cells": [
  {
   "cell_type": "code",
   "execution_count": null,
   "outputs": [],
   "source": [
    "import os\n",
    "import pathlib\n",
    "import pandas as pd\n",
    "\n",
    "ARTIFACT_DIR = pathlib.Path(f\"{os.getcwd()}/../artifacts/\")\n",
    "CSV_DIR = pathlib.Path(f\"{os.getcwd()}/../data-raw/csv/\")\n",
    "assert pathlib.Path.exists(CSV_DIR), f\"You must extract ZIP files to '{CSV_DIR}'\""
   ],
   "metadata": {
    "collapsed": false
   },
   "id": "b1fb961544c19deb"
  },
  {
   "cell_type": "code",
   "execution_count": null,
   "outputs": [],
   "source": [
    "econ_df = pd.read_csv(CSV_DIR / \"world_economy_freedom.csv\")\n",
    "elec_df = pd.read_csv(CSV_DIR / \"global_electricity_production_data.csv\")\n",
    "water_df = pd.read_csv(CSV_DIR / \"water.csv\")"
   ],
   "metadata": {
    "collapsed": false
   },
   "id": "690bf631efc1f8f1"
  },
  {
   "cell_type": "code",
   "execution_count": null,
   "outputs": [],
   "source": [
    "print(econ_df.info())\n",
    "econ_df.describe()"
   ],
   "metadata": {
    "collapsed": false
   },
   "id": "7b6a79f09472a22b"
  },
  {
   "cell_type": "code",
   "execution_count": null,
   "outputs": [],
   "source": [
    "import matplotlib.pyplot as plt\n",
    "plt.scatter(econ_df[\"Country ID\"], econ_df[\"2023 Score\"])\n",
    "plt.title(\"Economic Freedom Score - 2023\")\n",
    "plt.xlabel(\"Country ID\")\n",
    "plt.ylabel(\"Overall Score 2023\")\n",
    "plt.savefig(ARTIFACT_DIR / \"EconScore2023.png\")"
   ],
   "metadata": {
    "collapsed": false
   },
   "id": "9123a02cdae1ebad"
  },
  {
   "cell_type": "code",
   "execution_count": null,
   "outputs": [],
   "source": [
    "plt.scatter(econ_df[\"Change from 2022\"], econ_df[\"2023 Score\"])\n",
    "plt.title(\"Economic Freedom - Change from 2022 vs Score 2023\")\n",
    "plt.xlabel(\"Change from 2022\")\n",
    "plt.ylabel(\"Score 2023\")\n",
    "plt.savefig(ARTIFACT_DIR / \"Change-vs-Score2023.png\")"
   ],
   "metadata": {
    "collapsed": false
   },
   "id": "ff71bdeeb8db2a1"
  },
  {
   "cell_type": "code",
   "execution_count": null,
   "outputs": [],
   "source": [
    "from scipy import stats\n",
    "value = 70  # Above the p75\n",
    "percentile = stats.percentileofscore(econ_df['2023 Score'], value)\n",
    "print(f\"The value {value} is at the {percentile:.2f} percentile.\")\n",
    "econ_df.sample(n=5)"
   ],
   "metadata": {
    "collapsed": false
   },
   "id": "ee262b2cdd9b7ce1"
  },
  {
   "cell_type": "code",
   "execution_count": null,
   "outputs": [],
   "source": [
    "print(elec_df.info())\n",
    "elec_df.describe()"
   ],
   "metadata": {
    "collapsed": false
   },
   "id": "d55e15bb8ef4a2aa"
  },
  {
   "cell_type": "code",
   "execution_count": null,
   "outputs": [],
   "source": [
    "elec_df.head()"
   ],
   "metadata": {
    "collapsed": false
   },
   "id": "961df2f47f56f37d"
  },
  {
   "cell_type": "markdown",
   "source": [],
   "metadata": {
    "collapsed": false
   },
   "id": "3b41e78415e8a31c"
  },
  {
   "cell_type": "code",
   "execution_count": null,
   "outputs": [],
   "source": [
    "elec_df.parameter.unique()"
   ],
   "metadata": {
    "collapsed": false
   },
   "id": "771a5767f54f5140"
  },
  {
   "cell_type": "code",
   "execution_count": null,
   "outputs": [],
   "source": [
    "elec_df[\"year\"] = elec_df[\"date\"].apply(lambda x: int(x.split(\"/\")[-1]))\n",
    "print(elec_df.year.unique())\n",
    "elec_df[[\"country_name\", \"date\", \"year\"]].head()"
   ],
   "metadata": {
    "collapsed": false
   },
   "id": "cbb3bee6c985a7b1"
  },
  {
   "cell_type": "code",
   "execution_count": null,
   "outputs": [],
   "source": [
    "elec_pivot = elec_df.pivot_table(index=[\"country_name\", \"year\"], columns=[\"parameter\", \"product\", \"unit\"], values=\"value\")\n",
    "print(elec_pivot.info())\n",
    "elec_pivot.describe()"
   ],
   "metadata": {
    "collapsed": false
   },
   "id": "7b1246fe59eee751"
  },
  {
   "cell_type": "code",
   "execution_count": null,
   "outputs": [],
   "source": [
    "elec_pivot.head(50)"
   ],
   "metadata": {
    "collapsed": false
   },
   "id": "fc301c6a4bbf939d"
  },
  {
   "cell_type": "code",
   "execution_count": null,
   "outputs": [],
   "source": [
    "import seaborn as sns\n",
    "import matplotlib.pyplot as plt\n",
    "import numpy as np\n",
    "\n",
    "# Extract just the features and make a corr matrix.\n",
    "corr = elec_pivot.corr()\n",
    "# Generate a mask for the upper triangle\n",
    "mask = np.triu(np.ones_like(corr, dtype=bool))\n",
    "f, ax = plt.subplots(figsize=(11, 9))\n",
    "cmap = sns.diverging_palette(230, 20, as_cmap=True)\n",
    "sns.heatmap(corr, mask=mask, cmap=cmap, vmax=.3, center=0,\n",
    "            square=True, linewidths=.5, cbar_kws={\"shrink\": .5})\n",
    "\n",
    "plt.savefig(ARTIFACT_DIR / \"elec_corr.png\")\n",
    "plt.show()"
   ],
   "metadata": {
    "collapsed": false
   },
   "id": "e25f64c3df5d3a2d"
  },
  {
   "cell_type": "code",
   "execution_count": null,
   "outputs": [],
   "source": [
    "print(water_df.info())\n",
    "water_df.describe()"
   ],
   "metadata": {
    "collapsed": false
   },
   "id": "5f8f845ce25e7c54"
  },
  {
   "cell_type": "code",
   "execution_count": null,
   "outputs": [],
   "source": [
    "water_df.head(10)"
   ],
   "metadata": {
    "collapsed": false
   },
   "id": "23dede7db05123a9"
  },
  {
   "cell_type": "code",
   "execution_count": null,
   "outputs": [],
   "source": [
    "water_pivot = water_df.pivot_table(index=['REF_AREA:Geographic area', 'TIME_PERIOD:Time period'], \n",
    "                          columns='INDICATOR:Indicator', \n",
    "                          values='OBS_VALUE:Observation Value').reset_index()\n",
    "print(water_pivot.info())\n",
    "water_pivot.describe()"
   ],
   "metadata": {
    "collapsed": false
   },
   "id": "d0b787e85abfe572"
  },
  {
   "cell_type": "code",
   "execution_count": null,
   "outputs": [],
   "source": [
    "water_indicators = [name.split(\": \") for name in water_pivot.columns if name.startswith(\"WS_\") and \":\" in name]\n",
    "for ind in water_indicators:\n",
    "    print(f\"{ind[0]:<12}: {ind[1]}\")"
   ],
   "metadata": {
    "collapsed": false
   },
   "id": "ae82bb841e146df4"
  },
  {
   "cell_type": "code",
   "execution_count": null,
   "outputs": [],
   "source": [
    "water_pivot.columns = [col.split(':')[0] for col in water_pivot.columns]\n",
    "water_pivot.TIME_PERIOD = water_pivot.TIME_PERIOD.astype(int)\n",
    "water_pivot.info()"
   ],
   "metadata": {
    "collapsed": false
   },
   "id": "79917b3cac20b0f7"
  },
  {
   "cell_type": "code",
   "execution_count": null,
   "outputs": [],
   "source": [
    "import seaborn as sns\n",
    "import matplotlib.pyplot as plt\n",
    "import numpy as np\n",
    "\n",
    "# Extract just the features and make a corr matrix.\n",
    "corr = water_pivot[[ind[0] for ind in water_indicators]].corr()\n",
    "# Generate a mask for the upper triangle\n",
    "mask = np.triu(np.ones_like(corr, dtype=bool))\n",
    "f, ax = plt.subplots(figsize=(11, 9))\n",
    "cmap = sns.diverging_palette(230, 20, as_cmap=True)\n",
    "sns.heatmap(corr, mask=mask, cmap=cmap, vmax=.3, center=0,\n",
    "            square=True, linewidths=.5, cbar_kws={\"shrink\": .5})\n",
    "# Add the indicators and their definitions to the right side of the heatmap\n",
    "for i, ind in enumerate(water_indicators):\n",
    "    ax.text(x=1.2, y=i/len(water_indicators), s=f\"{ind[0]}: {ind[1]}\", \n",
    "            transform=ax.transAxes, verticalalignment='center')\n",
    "\n",
    "plt.savefig(ARTIFACT_DIR / \"water_corr.png\")\n",
    "plt.show()"
   ],
   "metadata": {
    "collapsed": false
   },
   "id": "87269f389ea89f1a"
  },
  {
   "cell_type": "code",
   "execution_count": null,
   "outputs": [],
   "source": [
    "# Reset the column names and index to get a single level.\n",
    "# Clone for idempotence.\n",
    "flat_elec_pivot = elec_pivot.copy(deep=True)\n",
    "flat_elec_pivot.columns = ['_'.join(col).strip() for col in elec_pivot.columns.values]\n",
    "flat_elec_pivot.reset_index(inplace=True)\n",
    "print(flat_elec_pivot.shape)\n",
    "flat_elec_pivot.head()"
   ],
   "metadata": {
    "collapsed": false
   },
   "id": "34c1083c36c252c7"
  },
  {
   "cell_type": "code",
   "execution_count": null,
   "outputs": [],
   "source": [
    "water_pivot.rename(columns={\"REF_AREA\": \"country_name\", \"TIME_PERIOD\": \"year\"}, inplace=True)\n",
    "water_pivot.country_name = water_pivot.country_name.str.split(\":\").str[-1].str.strip()\n",
    "print(water_pivot.shape)\n",
    "water_pivot.head()"
   ],
   "metadata": {
    "collapsed": false
   },
   "id": "eee2eaabe98536cd"
  },
  {
   "cell_type": "code",
   "execution_count": null,
   "outputs": [],
   "source": [
    "econ_df = econ_df.rename(columns={\"Country Name\": \"country_name\"})\n",
    "raw_features = (water_pivot[[\"country_name\", \"year\", \"WS_PPL_W-SM\"]]\n",
    ".merge(\n",
    "        flat_elec_pivot[[\"country_name\", \"year\", \"Net Electricity Production_Electricity_GWh\"]], \n",
    "        how=\"inner\", \n",
    "        on=[\"country_name\", \"year\"]\n",
    "    ))\n",
    "print(raw_features.shape)\n",
    "print(raw_features.info())\n",
    "raw_features"
   ],
   "metadata": {
    "collapsed": false
   },
   "id": "3837985841d8b001"
  },
  {
   "cell_type": "code",
   "execution_count": null,
   "outputs": [],
   "source": [
    "plt.figure(figsize=(10, 6))\n",
    "plt.scatter(raw_features[\"WS_PPL_W-SM\"], raw_features[\"Net Electricity Production_Electricity_GWh\"])\n",
    "plt.xlabel(\"WS_PPL_W-SM\")\n",
    "plt.ylabel(\"Net Electricity Production_Electricity_GWh\")\n",
    "plt.title(\"WS_PPL_W-SM vs Net Electricity Production_Electricity_GWh\")\n",
    "plt.savefig(ARTIFACT_DIR / \"WaterSan-vs-Elec.png\")\n",
    "plt.show()"
   ],
   "metadata": {
    "collapsed": false
   },
   "id": "b6e8c9f412bfce6e"
  },
  {
   "cell_type": "code",
   "execution_count": null,
   "outputs": [],
   "source": [
    "from collections import defaultdict\n",
    "\n",
    "import numpy as np\n",
    "import pandas as pd\n",
    "\n",
    "MISSING_SENTINEL = np.nan\n",
    "COUNTRY = 0\n",
    "YEAR = 1\n",
    "WATER = 2\n",
    "ELEC = 3\n",
    "\n",
    "def calculate_deltas(data: pd.DataFrame) -> dict:\n",
    "    # Values like { <country_name>: { <year>: [<water_delta>, <elec_delta>] } }\n",
    "    acc = defaultdict(dict)\n",
    "    records = data.to_records(index=False)\n",
    "    \n",
    "    prev_country_name = \"\"\n",
    "    prev_year_water = MISSING_SENTINEL\n",
    "    prev_year_elec = MISSING_SENTINEL\n",
    "    \n",
    "    for record in records:\n",
    "        acc[record[COUNTRY]][record[YEAR]] = [np.nan, np.nan]\n",
    "        \n",
    "        if record[COUNTRY] != prev_country_name:\n",
    "            prev_country_name = record[COUNTRY]\n",
    "            prev_year_water = record[WATER]\n",
    "            prev_year_elec = record[ELEC]\n",
    "            continue\n",
    "        \n",
    "        if prev_year_water != MISSING_SENTINEL and not np.isnan(record[WATER]):\n",
    "            acc[record[COUNTRY]][record[YEAR]][0] = ((record[WATER] - prev_year_water)/prev_year_water) * 100\n",
    "        \n",
    "        if prev_year_elec != MISSING_SENTINEL and not np.isnan(record[ELEC]):\n",
    "            acc[record[COUNTRY]][record[YEAR]][1] = ((record[ELEC] - prev_year_elec)/prev_year_elec) * 100\n",
    "\n",
    "        prev_year_water = record[WATER]\n",
    "        prev_year_elec = record[ELEC]\n",
    "            \n",
    "    return acc\n",
    "\n",
    "deltas = calculate_deltas(raw_features)\n",
    "print(deltas[\"Hungary\"])"
   ],
   "metadata": {
    "collapsed": false
   },
   "id": "84c375adf31562bb"
  },
  {
   "cell_type": "code",
   "execution_count": null,
   "outputs": [],
   "source": [
    "water_deltas = []\n",
    "elec_deltas = []\n",
    "for _, years in deltas.items():\n",
    "    for _, pair in years.items():\n",
    "        if np.isnan(pair[0]) or np.isnan(pair[1]):\n",
    "            continue\n",
    "        water_deltas.append(pair[0])\n",
    "        elec_deltas.append(pair[1])\n",
    "plt.scatter(water_deltas, elec_deltas)\n",
    "plt.ylim(-20, 20)  # Some outliers.\n",
    "plt.xlabel(\"Water Delta (YoY)\")\n",
    "plt.ylabel(\"Electricity Delta (YoY)\")\n",
    "plt.title(\"Changes in Water Sanitization vs Electricity Generation\")\n",
    "plt.savefig(ARTIFACT_DIR / \"Changes-Water-vs-Elec.png\")"
   ],
   "metadata": {
    "collapsed": false
   },
   "id": "150ee4a119d379f6"
  },
  {
   "cell_type": "code",
   "execution_count": null,
   "outputs": [],
   "source": [
    "# FLATTEN - single row per country.\n",
    "df_pivot = raw_features.pivot_table(index='country_name', columns='year')\n",
    "# DELTAS to DataFrame.\n",
    "deltas_df = pd.DataFrame(deltas).T\n",
    "deltas_df.columns = pd.MultiIndex.from_tuples([(year, 'delta') for year in deltas_df.columns])\n",
    "# UNPACK DELTAS.\n",
    "for year in deltas_df.columns.get_level_values(0).unique():\n",
    "    deltas_df[('delta_WS_PPL_W-SM', year)] = deltas_df[(year, 'delta')].apply(lambda x: x[0] if hasattr(x, '__iter__') else np.nan)\n",
    "    deltas_df[('delta_Net Electricity Production_Electricity_GWh', year)] = deltas_df[(year, 'delta')].apply(lambda x: x[1] if hasattr(x, '__iter__') else np.nan)\n",
    "# DROP OLD DELTAS OBJECTS.\n",
    "deltas_df = deltas_df.drop(columns='delta', level=1)"
   ],
   "metadata": {
    "collapsed": false
   },
   "id": "8f6f5071fd022720"
  },
  {
   "cell_type": "code",
   "execution_count": null,
   "outputs": [],
   "source": [
    "# MERGE flattened data with deltas information.\n",
    "feature_df = pd.merge(df_pivot, deltas_df, left_index=True, right_index=True, how='outer')\n",
    "# SORT and REPLACE missing values.\n",
    "feature_df = feature_df.sort_index(axis=1).replace({None: np.nan})\n",
    "# DROP known empty deltas columns.\n",
    "feature_df = feature_df.drop(columns=[('delta_Net Electricity Production_Electricity_GWh', 2012), ('delta_WS_PPL_W-SM', 2012)])\n",
    "# RESHAPE FOR EXPORT\n",
    "feature_df.columns = ['_'.join([str(part) for part in col]).strip() for col in feature_df.columns.values]\n",
    "feature_df.reset_index(inplace=True)\n",
    "feature_df.rename(columns={'index': 'country_name'}, inplace=True)\n",
    "# EXPORT\n",
    "feature_df.to_csv(ARTIFACT_DIR / \"feature_df.csv\", index=False, sep=\"\\t\", na_rep='NaN')\n",
    "feature_df.describe()"
   ],
   "metadata": {
    "collapsed": false
   },
   "id": "dc49be26e241540d"
  },
  {
   "cell_type": "code",
   "execution_count": null,
   "outputs": [],
   "source": [
    "# CREATE FULL DATASET\n",
    "final_df = feature_df.merge(\n",
    "    econ_df[[\"country_name\", \"Region\", \"Govt Integrity\", \"Gov\\'t Spending\", \"Tax Burden\", \"2022 Score\", \"2023 Score\", \"Change from 2022\"]], \n",
    "    on=\"country_name\", how=\"left\"\n",
    ")\n",
    "columns = {\n",
    "        col: \"_\".join([part for part in col.replace(\"-\", \"_\").replace(\"'\", \"\").split(\" \")])\n",
    "        for col in final_df.columns\n",
    "    }\n",
    "final_df.rename(columns=columns, inplace=True)\n",
    "final_df.to_csv(ARTIFACT_DIR / \"final_data.csv\", index=False, sep=\"\\t\", na_rep='NaN')\n",
    "final_df.sample(n=3)"
   ],
   "metadata": {
    "collapsed": false
   },
   "id": "1158a8f322367f2f"
  },
  {
   "cell_type": "code",
   "execution_count": null,
   "outputs": [],
   "source": [
    "import re\n",
    "interesting_cols = [c for c in final_df.columns if re.match(r\".+_20[1,2][0-9]\", c)] + [\"Govt_Integrity\", \"Govt_Spending\", \"Tax_Burden\"]\n",
    "corr = final_df[interesting_cols].corr()\n",
    "mask = np.triu(np.ones_like(corr, dtype=bool))\n",
    "f, ax = plt.subplots(figsize=(11, 9))\n",
    "cmap = sns.diverging_palette(230, 20, as_cmap=True)\n",
    "sns.heatmap(corr, mask=mask, cmap=cmap, vmax=.3, center=0,\n",
    "            square=True, linewidths=.5, cbar_kws={\"shrink\": .5})\n",
    "\n",
    "plt.savefig(ARTIFACT_DIR / \"feature_corr.png\")\n",
    "plt.show()"
   ],
   "metadata": {
    "collapsed": false
   },
   "id": "fb39116a32364bc5"
  },
  {
   "cell_type": "code",
   "execution_count": null,
   "outputs": [],
   "source": [],
   "metadata": {
    "collapsed": false
   },
   "id": "ffe38ffbe6fd94d9"
  }
 ],
 "metadata": {
  "kernelspec": {
   "display_name": "Python 3",
   "language": "python",
   "name": "python3"
  },
  "language_info": {
   "codemirror_mode": {
    "name": "ipython",
    "version": 2
   },
   "file_extension": ".py",
   "mimetype": "text/x-python",
   "name": "python",
   "nbconvert_exporter": "python",
   "pygments_lexer": "ipython2",
   "version": "2.7.6"
  }
 },
 "nbformat": 4,
 "nbformat_minor": 5
}
